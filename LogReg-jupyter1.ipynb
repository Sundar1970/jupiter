{
 "cells": [
  {
   "cell_type": "code",
   "execution_count": null,
   "metadata": {},
   "outputs": [],
   "source": [
    "# Foundations of Artificial Intelligence - Logistic regression using Python \n",
    "\n",
    "# This use case illustrates the follows:\n",
    "\n",
    "# (i)Logistic regression for predicting the grades of a student, using the Python;\n",
    "# (ii) Verify model diagnostics;\n",
    "# (iii) Interpret the beta coefficients, and their statistical significance.\n",
    "\n",
    "# Source of data: \n",
    "#L. Spector and M. Mazzeo, “Probit Analysis and Economic Education,”Journal of Economic Education, vol.11, 1980,37–44.\n",
    "\n",
    "# Letting Y = 1 if a student’s final grade in \"Microeconomics\" course was A and Y = 0 if the final grade\n",
    "# was a B or a C,  this case study uses grade point average (GPA), TUCE, and Personalized System of Instruction (PSI) \n",
    "# as the grade predictors.  See the \"grades\" dataset.\n",
    "\n",
    "# Grade Y = 1 if the final grade is A\n",
    "#         = 0 if the final grade is B or C;\n",
    "\n",
    "# TUCE = score on an examination given at the beginning of the term to test entering knowledge of macroeconomics;\n",
    "\n",
    "# PSI = 1 if the new teaching method is used\n",
    "#     = 0 otherwise;\n",
    "# GPA = the entering grade point average.\n",
    "\n",
    "# Questions: \n",
    "#(1)  Compute the population logit model to predict the Grade of the student. \n",
    "#(2)  How effective is PSI on students’ grades? Discuss.  \n",
    "#(3)  Compute the actual probability of the student at row 10 in the dataset getting an A grade.\n"
   ]
  },
  {
   "cell_type": "code",
   "execution_count": 3,
   "metadata": {},
   "outputs": [],
   "source": [
    "# Importing the required modules\n",
    "# First we import Pandas and the statsmodels Formula API. \n",
    "# Convention is to abbreviate statsmodels.formula.api as smf.\n",
    "import pandas as pd\n",
    "import statsmodels.formula.api as smf"
   ]
  },
  {
   "cell_type": "code",
   "execution_count": 5,
   "metadata": {},
   "outputs": [],
   "source": [
    "# We load the \"grades.csv\" dataset \n",
    "grades = pd.read_csv (r'C:\\Users\\ramra\\Desktop\\grades.csv')"
   ]
  },
  {
   "cell_type": "code",
   "execution_count": 6,
   "metadata": {},
   "outputs": [
    {
     "data": {
      "text/html": [
       "<div>\n",
       "<style scoped>\n",
       "    .dataframe tbody tr th:only-of-type {\n",
       "        vertical-align: middle;\n",
       "    }\n",
       "\n",
       "    .dataframe tbody tr th {\n",
       "        vertical-align: top;\n",
       "    }\n",
       "\n",
       "    .dataframe thead th {\n",
       "        text-align: right;\n",
       "    }\n",
       "</style>\n",
       "<table border=\"1\" class=\"dataframe\">\n",
       "  <thead>\n",
       "    <tr style=\"text-align: right;\">\n",
       "      <th></th>\n",
       "      <th>GPA</th>\n",
       "      <th>TUCE</th>\n",
       "      <th>PSI</th>\n",
       "      <th>GRADE</th>\n",
       "    </tr>\n",
       "  </thead>\n",
       "  <tbody>\n",
       "    <tr>\n",
       "      <th>0</th>\n",
       "      <td>2.66</td>\n",
       "      <td>20</td>\n",
       "      <td>0</td>\n",
       "      <td>0</td>\n",
       "    </tr>\n",
       "    <tr>\n",
       "      <th>1</th>\n",
       "      <td>2.89</td>\n",
       "      <td>22</td>\n",
       "      <td>0</td>\n",
       "      <td>0</td>\n",
       "    </tr>\n",
       "    <tr>\n",
       "      <th>2</th>\n",
       "      <td>3.28</td>\n",
       "      <td>24</td>\n",
       "      <td>0</td>\n",
       "      <td>0</td>\n",
       "    </tr>\n",
       "    <tr>\n",
       "      <th>3</th>\n",
       "      <td>2.92</td>\n",
       "      <td>12</td>\n",
       "      <td>0</td>\n",
       "      <td>0</td>\n",
       "    </tr>\n",
       "    <tr>\n",
       "      <th>4</th>\n",
       "      <td>4.00</td>\n",
       "      <td>21</td>\n",
       "      <td>0</td>\n",
       "      <td>1</td>\n",
       "    </tr>\n",
       "    <tr>\n",
       "      <th>5</th>\n",
       "      <td>2.86</td>\n",
       "      <td>17</td>\n",
       "      <td>0</td>\n",
       "      <td>0</td>\n",
       "    </tr>\n",
       "    <tr>\n",
       "      <th>6</th>\n",
       "      <td>2.76</td>\n",
       "      <td>17</td>\n",
       "      <td>0</td>\n",
       "      <td>0</td>\n",
       "    </tr>\n",
       "    <tr>\n",
       "      <th>7</th>\n",
       "      <td>2.87</td>\n",
       "      <td>21</td>\n",
       "      <td>0</td>\n",
       "      <td>0</td>\n",
       "    </tr>\n",
       "    <tr>\n",
       "      <th>8</th>\n",
       "      <td>3.03</td>\n",
       "      <td>25</td>\n",
       "      <td>0</td>\n",
       "      <td>0</td>\n",
       "    </tr>\n",
       "    <tr>\n",
       "      <th>9</th>\n",
       "      <td>3.92</td>\n",
       "      <td>29</td>\n",
       "      <td>0</td>\n",
       "      <td>1</td>\n",
       "    </tr>\n",
       "    <tr>\n",
       "      <th>10</th>\n",
       "      <td>2.63</td>\n",
       "      <td>20</td>\n",
       "      <td>0</td>\n",
       "      <td>0</td>\n",
       "    </tr>\n",
       "    <tr>\n",
       "      <th>11</th>\n",
       "      <td>3.32</td>\n",
       "      <td>23</td>\n",
       "      <td>0</td>\n",
       "      <td>0</td>\n",
       "    </tr>\n",
       "    <tr>\n",
       "      <th>12</th>\n",
       "      <td>3.57</td>\n",
       "      <td>23</td>\n",
       "      <td>0</td>\n",
       "      <td>0</td>\n",
       "    </tr>\n",
       "    <tr>\n",
       "      <th>13</th>\n",
       "      <td>3.26</td>\n",
       "      <td>25</td>\n",
       "      <td>0</td>\n",
       "      <td>1</td>\n",
       "    </tr>\n",
       "    <tr>\n",
       "      <th>14</th>\n",
       "      <td>3.53</td>\n",
       "      <td>26</td>\n",
       "      <td>0</td>\n",
       "      <td>0</td>\n",
       "    </tr>\n",
       "    <tr>\n",
       "      <th>15</th>\n",
       "      <td>2.74</td>\n",
       "      <td>19</td>\n",
       "      <td>0</td>\n",
       "      <td>0</td>\n",
       "    </tr>\n",
       "    <tr>\n",
       "      <th>16</th>\n",
       "      <td>2.75</td>\n",
       "      <td>25</td>\n",
       "      <td>0</td>\n",
       "      <td>0</td>\n",
       "    </tr>\n",
       "    <tr>\n",
       "      <th>17</th>\n",
       "      <td>2.83</td>\n",
       "      <td>19</td>\n",
       "      <td>0</td>\n",
       "      <td>0</td>\n",
       "    </tr>\n",
       "    <tr>\n",
       "      <th>18</th>\n",
       "      <td>3.12</td>\n",
       "      <td>23</td>\n",
       "      <td>1</td>\n",
       "      <td>0</td>\n",
       "    </tr>\n",
       "    <tr>\n",
       "      <th>19</th>\n",
       "      <td>3.16</td>\n",
       "      <td>25</td>\n",
       "      <td>1</td>\n",
       "      <td>1</td>\n",
       "    </tr>\n",
       "    <tr>\n",
       "      <th>20</th>\n",
       "      <td>2.06</td>\n",
       "      <td>22</td>\n",
       "      <td>1</td>\n",
       "      <td>0</td>\n",
       "    </tr>\n",
       "    <tr>\n",
       "      <th>21</th>\n",
       "      <td>3.62</td>\n",
       "      <td>28</td>\n",
       "      <td>1</td>\n",
       "      <td>1</td>\n",
       "    </tr>\n",
       "    <tr>\n",
       "      <th>22</th>\n",
       "      <td>2.89</td>\n",
       "      <td>14</td>\n",
       "      <td>1</td>\n",
       "      <td>0</td>\n",
       "    </tr>\n",
       "    <tr>\n",
       "      <th>23</th>\n",
       "      <td>3.51</td>\n",
       "      <td>26</td>\n",
       "      <td>1</td>\n",
       "      <td>0</td>\n",
       "    </tr>\n",
       "    <tr>\n",
       "      <th>24</th>\n",
       "      <td>3.54</td>\n",
       "      <td>24</td>\n",
       "      <td>1</td>\n",
       "      <td>1</td>\n",
       "    </tr>\n",
       "    <tr>\n",
       "      <th>25</th>\n",
       "      <td>2.83</td>\n",
       "      <td>27</td>\n",
       "      <td>1</td>\n",
       "      <td>1</td>\n",
       "    </tr>\n",
       "    <tr>\n",
       "      <th>26</th>\n",
       "      <td>3.39</td>\n",
       "      <td>17</td>\n",
       "      <td>1</td>\n",
       "      <td>1</td>\n",
       "    </tr>\n",
       "    <tr>\n",
       "      <th>27</th>\n",
       "      <td>2.67</td>\n",
       "      <td>24</td>\n",
       "      <td>1</td>\n",
       "      <td>0</td>\n",
       "    </tr>\n",
       "    <tr>\n",
       "      <th>28</th>\n",
       "      <td>3.65</td>\n",
       "      <td>21</td>\n",
       "      <td>1</td>\n",
       "      <td>1</td>\n",
       "    </tr>\n",
       "    <tr>\n",
       "      <th>29</th>\n",
       "      <td>4.00</td>\n",
       "      <td>23</td>\n",
       "      <td>1</td>\n",
       "      <td>1</td>\n",
       "    </tr>\n",
       "    <tr>\n",
       "      <th>30</th>\n",
       "      <td>3.10</td>\n",
       "      <td>21</td>\n",
       "      <td>1</td>\n",
       "      <td>0</td>\n",
       "    </tr>\n",
       "    <tr>\n",
       "      <th>31</th>\n",
       "      <td>2.39</td>\n",
       "      <td>19</td>\n",
       "      <td>1</td>\n",
       "      <td>1</td>\n",
       "    </tr>\n",
       "  </tbody>\n",
       "</table>\n",
       "</div>"
      ],
      "text/plain": [
       "     GPA  TUCE  PSI  GRADE\n",
       "0   2.66    20    0      0\n",
       "1   2.89    22    0      0\n",
       "2   3.28    24    0      0\n",
       "3   2.92    12    0      0\n",
       "4   4.00    21    0      1\n",
       "5   2.86    17    0      0\n",
       "6   2.76    17    0      0\n",
       "7   2.87    21    0      0\n",
       "8   3.03    25    0      0\n",
       "9   3.92    29    0      1\n",
       "10  2.63    20    0      0\n",
       "11  3.32    23    0      0\n",
       "12  3.57    23    0      0\n",
       "13  3.26    25    0      1\n",
       "14  3.53    26    0      0\n",
       "15  2.74    19    0      0\n",
       "16  2.75    25    0      0\n",
       "17  2.83    19    0      0\n",
       "18  3.12    23    1      0\n",
       "19  3.16    25    1      1\n",
       "20  2.06    22    1      0\n",
       "21  3.62    28    1      1\n",
       "22  2.89    14    1      0\n",
       "23  3.51    26    1      0\n",
       "24  3.54    24    1      1\n",
       "25  2.83    27    1      1\n",
       "26  3.39    17    1      1\n",
       "27  2.67    24    1      0\n",
       "28  3.65    21    1      1\n",
       "29  4.00    23    1      1\n",
       "30  3.10    21    1      0\n",
       "31  2.39    19    1      1"
      ]
     },
     "execution_count": 6,
     "metadata": {},
     "output_type": "execute_result"
    }
   ],
   "source": [
    "# Visualizing the dataset\n",
    "grades"
   ]
  },
  {
   "cell_type": "code",
   "execution_count": 7,
   "metadata": {},
   "outputs": [
    {
     "name": "stdout",
     "output_type": "stream",
     "text": [
      "Optimization terminated successfully.\n",
      "         Current function value: 0.402801\n",
      "         Iterations 7\n"
     ]
    }
   ],
   "source": [
    "#Fitting is a two-step process. First, we specify a model, followed by fitting. \n",
    "# Typically the fit() call is chained to the model specification.\n",
    "# The string provided to logit, \"GRADE ~ GPA + TUCE + PSI\", the formula string, defines the model to build. \n",
    "\n",
    "# Solution to Question (1):\n",
    "\n",
    "# The logit population model is: Li = ln (Pi/ (1-Pi)) = β1 + β2GPAi + β3TUCEi + β4PSIi + ui, where Pi=1, if the\n",
    "# student scores an A grade, and Pi = 0, if the student scores a B or C grade.\n",
    "\n",
    "log_reg = smf.logit(\"GRADE ~ GPA + TUCE + PSI\", data=grades).fit()\n",
    "\n",
    "# See https://www.statsmodels.org/dev/generated/statsmodels.discrete.discrete_model.Logit.html\n",
    "# for the documentation\n"
   ]
  },
  {
   "cell_type": "code",
   "execution_count": 8,
   "metadata": {},
   "outputs": [
    {
     "name": "stdout",
     "output_type": "stream",
     "text": [
      "                           Logit Regression Results                           \n",
      "==============================================================================\n",
      "Dep. Variable:                  GRADE   No. Observations:                   32\n",
      "Model:                          Logit   Df Residuals:                       28\n",
      "Method:                           MLE   Df Model:                            3\n",
      "Date:                Sun, 27 Nov 2022   Pseudo R-squ.:                  0.3740\n",
      "Time:                        14:13:12   Log-Likelihood:                -12.890\n",
      "converged:                       True   LL-Null:                       -20.592\n",
      "Covariance Type:            nonrobust   LLR p-value:                  0.001502\n",
      "==============================================================================\n",
      "                 coef    std err          z      P>|z|      [0.025      0.975]\n",
      "------------------------------------------------------------------------------\n",
      "Intercept    -13.0213      4.931     -2.641      0.008     -22.687      -3.356\n",
      "GPA            2.8261      1.263      2.238      0.025       0.351       5.301\n",
      "TUCE           0.0952      0.142      0.672      0.501      -0.182       0.373\n",
      "PSI            2.3787      1.065      2.234      0.025       0.292       4.465\n",
      "==============================================================================\n"
     ]
    }
   ],
   "source": [
    "#we inspect the results of the fit using the summary() method. \n",
    "# The summary includes information on the fit, and the estimated coefficients.\n",
    "# In the output, ‘Iterations‘ refer to the number of times the model iterates over the data, to optimize the model. \n",
    "# By default, the maximum number of iterations performed is 35, after which the optimization fails.\n",
    "\n",
    "print(log_reg.summary())"
   ]
  },
  {
   "cell_type": "code",
   "execution_count": 10,
   "metadata": {},
   "outputs": [],
   "source": [
    "# Solution to Question 2:\n",
    "\n",
    "# Each slope coefficient in this equation is a partial slope coefficient and measures the change in \n",
    "# the estimated logit for a unit change in the value of the given regressor (holding other regressors constant).\n",
    "\n",
    "# (a) Thus, the GPA coefficient of 2.8261 means that, with other variables held constant,if GPA\n",
    "# increases by a unit, on average the estimated logit increases by about 2.83 units, suggesting\n",
    "# a positive relationship between the two. The other regressors (TUCE and PSI) have a positive effect on the logit\n",
    "# due to the positive signs of the coefficients.  \n",
    "# Statistically the effect of TUCE is not significant, since the z value is less than 2. \n",
    "# Together all the regressors have a  significant impact on the final grade, as the LR statistic is 15.40 with a \n",
    "# p value of about 0.0015 ~ 0.\n",
    "\n",
    "# (b) \n",
    "# The antilog of the PSI coefficient of 2.3786 is 10.7897 ( ≈ e^2.3786). This suggests that\n",
    "# students who are exposed to the new method of teaching are more than 10 times as likely\n",
    "# to get an A than students who are not exposed to the new method, other things remaining the same."
   ]
  },
  {
   "cell_type": "code",
   "execution_count": 11,
   "metadata": {},
   "outputs": [
    {
     "name": "stdout",
     "output_type": "stream",
     "text": [
      "['__class__', '__delattr__', '__dict__', '__dir__', '__doc__', '__eq__', '__format__', '__ge__', '__getattribute__', '__getstate__', '__gt__', '__hash__', '__init__', '__init_subclass__', '__le__', '__lt__', '__module__', '__ne__', '__new__', '__reduce__', '__reduce_ex__', '__repr__', '__setattr__', '__sizeof__', '__str__', '__subclasshook__', '__weakref__', '_cache', '_data_attr', '_data_in_cache', '_get_endog_name', '_get_robustcov_results', '_use_t', 'aic', 'bic', 'bse', 'conf_int', 'cov_kwds', 'cov_params', 'cov_type', 'df_model', 'df_resid', 'f_test', 'fittedvalues', 'get_margeff', 'initialize', 'k_constant', 'llf', 'llnull', 'llr', 'llr_pvalue', 'load', 'mle_retvals', 'mle_settings', 'model', 'nobs', 'normalized_cov_params', 'params', 'pred_table', 'predict', 'prsquared', 'pvalues', 'remove_data', 'resid_dev', 'resid_generalized', 'resid_pearson', 'resid_response', 'save', 'scale', 'set_null_options', 'summary', 'summary2', 't_test', 't_test_pairwise', 'tvalues', 'use_t', 'wald_test', 'wald_test_terms']\n"
     ]
    }
   ],
   "source": [
    "\n",
    "\n",
    "print(dir(log_reg))"
   ]
  },
  {
   "cell_type": "code",
   "execution_count": 12,
   "metadata": {},
   "outputs": [
    {
     "name": "stdout",
     "output_type": "stream",
     "text": [
      "-12.889634222131416\n"
     ]
    }
   ],
   "source": [
    "# Log-likelihood of full model (= llf)\n",
    "print(log_reg.llf) "
   ]
  },
  {
   "cell_type": "code",
   "execution_count": 13,
   "metadata": {},
   "outputs": [
    {
     "name": "stdout",
     "output_type": "stream",
     "text": [
      "-20.591729696634204\n"
     ]
    }
   ],
   "source": [
    "#Log-likelihood of intercept only model (=llnull)\n",
    "print(log_reg.llnull)"
   ]
  },
  {
   "cell_type": "code",
   "execution_count": 14,
   "metadata": {},
   "outputs": [
    {
     "name": "stdout",
     "output_type": "stream",
     "text": [
      "0.0015018786820365808\n"
     ]
    }
   ],
   "source": [
    "print (log_reg.llr_pvalue)"
   ]
  },
  {
   "cell_type": "code",
   "execution_count": 15,
   "metadata": {},
   "outputs": [
    {
     "name": "stdout",
     "output_type": "stream",
     "text": [
      "15.404190949005574\n"
     ]
    }
   ],
   "source": [
    "# Likelihood ratio (LR) chi-squared statistic = -2*(llnull - llf) = -2 *(-20.5917 - (-12.8896) ) = 15.4042\n",
    "# To test the null hypothesis that all the slope coefficients are simultaneously equal to zero, the equivalent \n",
    "# of the F test in the linear regression model is the likelihood ratio (LR) statistic. \n",
    "# Given the null hypothesis, the LR statistic follows the χ2 distribution with df equal to the number of \n",
    "# explanatory variables, which is three in the present case study. (Exclude the intercept term in computing the df).\n",
    "# The critical chi-square value (for df = 3, two-tailed with alpha = 0.05) is 9.3484, which implies that \n",
    "# the null hypothesis is rejected.\n",
    "\n",
    "print (log_reg.llr)"
   ]
  },
  {
   "cell_type": "code",
   "execution_count": 18,
   "metadata": {},
   "outputs": [
    {
     "name": "stdout",
     "output_type": "stream",
     "text": [
      "0.3740382953726187\n"
     ]
    }
   ],
   "source": [
    "# McFadden's pseudo r-squared = 1 - (llf/llnull)\n",
    "print (log_reg.prsquared)"
   ]
  },
  {
   "cell_type": "code",
   "execution_count": 19,
   "metadata": {},
   "outputs": [
    {
     "name": "stdout",
     "output_type": "stream",
     "text": [
      "[0.02657799 0.05950125 0.18725993 0.02590164 0.56989295 0.03485827\n",
      " 0.02650406 0.051559   0.11112666 0.69351131 0.02447037 0.18999744\n",
      " 0.32223955 0.19321116 0.36098992 0.03018375 0.05362641 0.03858834\n",
      " 0.58987249 0.66078584 0.06137585 0.90484727 0.24177245 0.85209089\n",
      " 0.83829051 0.48113304 0.63542059 0.30721866 0.84170413 0.94534025\n",
      " 0.5291172  0.11103084]\n"
     ]
    }
   ],
   "source": [
    "yhat = log_reg.predict()\n",
    "print(yhat)"
   ]
  },
  {
   "cell_type": "code",
   "execution_count": 20,
   "metadata": {},
   "outputs": [
    {
     "name": "stdout",
     "output_type": "stream",
     "text": [
      "0.6935113095906813\n"
     ]
    }
   ],
   "source": [
    "# Solution to Question (3): \n",
    "# Consider student number 10 in the grades dataset (see In[24] below, where the data for the first 10 rows are shown. \n",
    "# Substituting this actual values data for this student (GPA = 3.92, TUCE = 29, PSI =0) in the estimated \n",
    "# logit model [See In[8]], the estimated logit value for this student is:\n",
    "# 0.8178 = -13.0213 + 2.83 *(3.92) + 0.0951 *(29) + 2.3786 *(0); \n",
    "# Using Pi = 1/(1+ e^ (-0.8178), the estimated probability is 0.69351. \n",
    "\n",
    "# Since this student’s actual final grade was an A, and since our logit model assigns a probability of 1 to a \n",
    "# student who gets an A, the estimated probability of 0.69351 is not exactly 1 but close to 1.\n",
    "print (yhat[9])"
   ]
  },
  {
   "cell_type": "code",
   "execution_count": 22,
   "metadata": {},
   "outputs": [
    {
     "name": "stdout",
     "output_type": "stream",
     "text": [
      "    GPA  TUCE  PSI  GRADE\n",
      "0  2.66    20    0      0\n",
      "1  2.89    22    0      0\n",
      "2  3.28    24    0      0\n",
      "3  2.92    12    0      0\n",
      "4  4.00    21    0      1\n",
      "5  2.86    17    0      0\n",
      "6  2.76    17    0      0\n",
      "7  2.87    21    0      0\n",
      "8  3.03    25    0      0\n",
      "9  3.92    29    0      1\n"
     ]
    }
   ],
   "source": [
    "print(grades.iloc[:10])"
   ]
  },
  {
   "cell_type": "code",
   "execution_count": 23,
   "metadata": {},
   "outputs": [
    {
     "name": "stdout",
     "output_type": "stream",
     "text": [
      "Actual values [0, 0, 0, 0, 1, 0, 0, 0, 0, 1, 0, 0, 0, 1, 0, 0, 0, 0, 0, 1, 0, 1, 0, 0, 1, 1, 1, 0, 1, 1, 0, 1]\n",
      "Predictions : [0.02657799 0.05950125 0.18725993 0.02590164 0.56989295 0.03485827\n",
      " 0.02650406 0.051559   0.11112666 0.69351131 0.02447037 0.18999744\n",
      " 0.32223955 0.19321116 0.36098992 0.03018375 0.05362641 0.03858834\n",
      " 0.58987249 0.66078584 0.06137585 0.90484727 0.24177245 0.85209089\n",
      " 0.83829051 0.48113304 0.63542059 0.30721866 0.84170413 0.94534025\n",
      " 0.5291172  0.11103084]\n"
     ]
    }
   ],
   "source": [
    "# We now proceed to list out the actual classifications, and compute the actual prbabilities for each student:\n",
    "\n",
    "print('Actual values', list(grades.GRADE))\n",
    "print('Predictions :', yhat)"
   ]
  },
  {
   "cell_type": "code",
   "execution_count": 24,
   "metadata": {},
   "outputs": [],
   "source": [
    "## End of code ## "
   ]
  },
  {
   "cell_type": "code",
   "execution_count": 26,
   "metadata": {},
   "outputs": [],
   "source": [
    "## By B. Sundar, IFS, Special Secretary to Government, Information technology, electronics\n",
    "# and communications department, Government of Andhra Pradesh."
   ]
  },
  {
   "cell_type": "code",
   "execution_count": null,
   "metadata": {},
   "outputs": [],
   "source": []
  }
 ],
 "metadata": {
  "kernelspec": {
   "display_name": "Python 3",
   "language": "python",
   "name": "python3"
  },
  "language_info": {
   "codemirror_mode": {
    "name": "ipython",
    "version": 3
   },
   "file_extension": ".py",
   "mimetype": "text/x-python",
   "name": "python",
   "nbconvert_exporter": "python",
   "pygments_lexer": "ipython3",
   "version": "3.8.5"
  }
 },
 "nbformat": 4,
 "nbformat_minor": 4
}
